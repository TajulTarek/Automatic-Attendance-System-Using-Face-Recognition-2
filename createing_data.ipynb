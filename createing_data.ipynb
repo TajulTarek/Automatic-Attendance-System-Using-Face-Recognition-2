{
 "cells": [
  {
   "cell_type": "code",
   "execution_count": 1,
   "metadata": {},
   "outputs": [],
   "source": [
    "import cv2\n",
    "import shutil\n",
    "from sklearn.model_selection import train_test_split\n",
    "import os\n"
   ]
  },
  {
   "cell_type": "code",
   "execution_count": 4,
   "metadata": {},
   "outputs": [
    {
     "name": "stdout",
     "output_type": "stream",
     "text": [
      "Train and test datasets created with data for 10 people!\n"
     ]
    }
   ],
   "source": [
    "\n",
    "# Paths\n",
    "data_dir = 'c:/Users/tarek/OneDrive/Desktop/Attendance/lfw_funneled'  # Root folder after extraction\n",
    "train_dir = \"c:/Users/tarek/OneDrive/Desktop/Attendance/dataset10/train_data\"\n",
    "test_dir = \"c:/Users/tarek/OneDrive/Desktop/Attendance/dataset10/test_data\"\n",
    "\n",
    "# Create directories for train and test data\n",
    "os.makedirs(train_dir, exist_ok=True)\n",
    "os.makedirs(test_dir, exist_ok=True)\n",
    "\n",
    "# Initialize a counter for processed people\n",
    "people_processed = 0\n",
    "max_people = 10  # Limit to 10 people\n",
    "\n",
    "# Valid image extensions\n",
    "valid_extensions = {\".jpg\", \".jpeg\", \".png\"}\n",
    "\n",
    "# Load OpenCV's pre-trained Haar Cascade for face detection\n",
    "face_cascade = cv2.CascadeClassifier(cv2.data.haarcascades + 'haarcascade_frontalface_default.xml')\n",
    "\n",
    "# Function to detect and crop the face from an image\n",
    "def crop_face(image_path):\n",
    "    # Read the image\n",
    "    img = cv2.imread(image_path)\n",
    "    gray = cv2.cvtColor(img, cv2.COLOR_BGR2GRAY)  # Convert to grayscale for face detection\n",
    "\n",
    "    # Detect faces in the image\n",
    "    faces = face_cascade.detectMultiScale(gray, 1.3, 5)\n",
    "\n",
    "    if len(faces) == 0:\n",
    "        return None  # No face detected\n",
    "\n",
    "    # Take the first face (you can modify this to select a specific one if needed)\n",
    "    (x, y, w, h) = faces[0]\n",
    "\n",
    "    # Crop the face from the image\n",
    "    cropped_img = img[y:y+h, x:x+w]\n",
    "\n",
    "    return cropped_img\n",
    "\n",
    "# Split images for each person into train and test sets\n",
    "for person in os.listdir(data_dir):\n",
    "    if people_processed >= max_people:\n",
    "        break  # Stop after 10 people\n",
    "\n",
    "    person_path = os.path.join(data_dir, person)\n",
    "    if os.path.isdir(person_path):\n",
    "        # Filter valid and existing image files\n",
    "        images = [\n",
    "            img for img in os.listdir(person_path)\n",
    "            if os.path.splitext(img)[1].lower() in valid_extensions and\n",
    "            os.path.exists(os.path.join(person_path, img))\n",
    "        ]\n",
    "\n",
    "        # Skip if the person has fewer than 5 valid images\n",
    "        if len(images) < 10:\n",
    "            continue\n",
    "\n",
    "        # Perform the split (take the first 5 images)\n",
    "        train_images, test_images = train_test_split(images[:10], test_size=0.2, random_state=42)\n",
    "\n",
    "        # Copy and crop training images\n",
    "        train_person_dir = os.path.join(train_dir, person)\n",
    "        os.makedirs(train_person_dir, exist_ok=True)\n",
    "        for img in train_images:\n",
    "            src_path = os.path.join(person_path, img)\n",
    "            cropped_img = crop_face(src_path)\n",
    "\n",
    "            if cropped_img is not None:\n",
    "                # Save the cropped face image\n",
    "                dest_path = os.path.join(train_person_dir, img)\n",
    "                cv2.imwrite(dest_path, cropped_img)\n",
    "\n",
    "        # Copy and crop testing images\n",
    "        test_person_dir = os.path.join(test_dir, person)\n",
    "        os.makedirs(test_person_dir, exist_ok=True)\n",
    "        for img in test_images:\n",
    "            src_path = os.path.join(person_path, img)\n",
    "            cropped_img = crop_face(src_path)\n",
    "\n",
    "            if cropped_img is not None:\n",
    "                # Save the cropped face image\n",
    "                dest_path = os.path.join(test_person_dir, img)\n",
    "                cv2.imwrite(dest_path, cropped_img)\n",
    "\n",
    "        # Increment the counter\n",
    "        people_processed += 1\n",
    "\n",
    "print(f\"Train and test datasets created with data for {people_processed} people!\")\n"
   ]
  },
  {
   "cell_type": "code",
   "execution_count": null,
   "metadata": {},
   "outputs": [],
   "source": []
  }
 ],
 "metadata": {
  "kernelspec": {
   "display_name": "Python 3 (ipykernel)",
   "language": "python",
   "name": "python3"
  },
  "language_info": {
   "codemirror_mode": {
    "name": "ipython",
    "version": 3
   },
   "file_extension": ".py",
   "mimetype": "text/x-python",
   "name": "python",
   "nbconvert_exporter": "python",
   "pygments_lexer": "ipython3",
   "version": "3.11.7"
  }
 },
 "nbformat": 4,
 "nbformat_minor": 2
}
