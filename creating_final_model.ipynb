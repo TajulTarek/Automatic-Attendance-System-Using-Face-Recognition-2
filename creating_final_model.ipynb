{
 "cells": [
  {
   "cell_type": "code",
   "execution_count": 18,
   "metadata": {},
   "outputs": [],
   "source": [
    "from PIL import Image\n",
    "import cv2\n",
    "import numpy as np\n",
    "import dlib\n",
    "import matplotlib.pyplot as plt\n",
    "import os"
   ]
  },
  {
   "cell_type": "code",
   "execution_count": 19,
   "metadata": {},
   "outputs": [],
   "source": [
    "# Resnet: https://arxiv.org/abs/1512.03385\n",
    "face_detector = dlib.get_frontal_face_detector()\n",
    "points_detector = dlib.shape_predictor('C:/Users/tarek/OneDrive/Desktop/Attendance/Weights/shape_predictor_68_face_landmarks.dat')\n",
    "face_descriptor_extractor = dlib.face_recognition_model_v1('C:/Users/tarek/OneDrive/Desktop/Attendance/Weights/dlib_face_recognition_resnet_model_v1.dat')"
   ]
  },
  {
   "cell_type": "code",
   "execution_count": 20,
   "metadata": {},
   "outputs": [],
   "source": [
    "mp={}\n",
    "face_descriptors=None\n",
    "folder_path='C:/Users/tarek/OneDrive/Desktop/Attendance/cropped/train'\n",
    "\n",
    "for person in os.listdir(folder_path):\n",
    "    person_path=folder_path+'/'+person\n",
    "    for path in os.listdir(person_path):\n",
    "        img_path=person_path+'/'+path\n",
    "        mp[img_path]=person\n",
    "\n"
   ]
  },
  {
   "cell_type": "code",
   "execution_count": 21,
   "metadata": {},
   "outputs": [],
   "source": [
    "final_mp={}\n",
    "for img_path, person in mp.items():\n",
    "    # Check if the path is a file before opening it\n",
    "    if os.path.isfile(img_path):\n",
    "        image=Image.open(img_path).convert(\"RGB\")\n",
    "        image_np=np.array(image,'uint8')\n",
    "\n",
    "        face_detection=face_detector(image_np,1)\n",
    "        #print(person)\n",
    "        for face in face_detection:\n",
    "            final_mp[img_path]=person\n",
    "            points=points_detector(image_np,face)\n",
    "\n",
    "            face_descriptor = face_descriptor_extractor.compute_face_descriptor(image_np, points)\n",
    "            face_descriptor = [f for f in face_descriptor]\n",
    "            face_descriptor = np.asarray(face_descriptor, dtype=np.float64)\n",
    "            face_descriptor = face_descriptor[np.newaxis, :]\n",
    "\n",
    "\n",
    "            if face_descriptors is None:\n",
    "                face_descriptors=face_descriptor\n",
    "            else:\n",
    "                face_descriptors= np.concatenate((face_descriptors, face_descriptor), axis = 0)\n",
    "    else:\n",
    "        # If it's a directory, print a message or handle it appropriately\n",
    "        print(f\"Skipping directory: {img_path}\")"
   ]
  },
  {
   "cell_type": "code",
   "execution_count": 22,
   "metadata": {},
   "outputs": [
    {
     "name": "stdout",
     "output_type": "stream",
     "text": [
      "52\n",
      "52\n"
     ]
    }
   ],
   "source": [
    "print(len(face_descriptors))\n",
    "print(len(final_mp))"
   ]
  },
  {
   "cell_type": "code",
   "execution_count": 23,
   "metadata": {},
   "outputs": [
    {
     "name": "stdout",
     "output_type": "stream",
     "text": [
      "Face descriptors saved to C:/Users/tarek/OneDrive/Desktop/Attendance/Model/face_descriptors_final.npy\n"
     ]
    }
   ],
   "source": [
    "\n",
    "# Path to save the descriptors\n",
    "save_path = 'C:/Users/tarek/OneDrive/Desktop/Attendance/Model/face_descriptors_final.npy'\n",
    "\n",
    "# Save the face_descriptors array\n",
    "np.save(save_path, face_descriptors)\n",
    "print(f\"Face descriptors saved to {save_path}\")\n"
   ]
  },
  {
   "cell_type": "code",
   "execution_count": 24,
   "metadata": {},
   "outputs": [
    {
     "name": "stdout",
     "output_type": "stream",
     "text": [
      "Dictionary saved to C:/Users/tarek/OneDrive/Desktop/Attendance/Model/mp_final.pkl\n"
     ]
    }
   ],
   "source": [
    "import pickle\n",
    "\n",
    "# Save the mp dictionary to a file\n",
    "def save_mp(mp, file_path):\n",
    "    with open(file_path, 'wb') as f:\n",
    "        pickle.dump(final_mp, f)\n",
    "    print(f\"Dictionary saved to {file_path}\")\n",
    "\n",
    "# Specify the file path\n",
    "mp_file_path = 'C:/Users/tarek/OneDrive/Desktop/Attendance/Model/mp_final.pkl'\n",
    "save_mp(mp, mp_file_path)\n"
   ]
  },
  {
   "cell_type": "code",
   "execution_count": 25,
   "metadata": {},
   "outputs": [
    {
     "name": "stdout",
     "output_type": "stream",
     "text": [
      "52\n",
      "52\n"
     ]
    }
   ],
   "source": [
    "print(len(final_mp))\n",
    "print(len(face_descriptors))"
   ]
  },
  {
   "cell_type": "code",
   "execution_count": null,
   "metadata": {},
   "outputs": [],
   "source": []
  }
 ],
 "metadata": {
  "kernelspec": {
   "display_name": "Python 3 (ipykernel)",
   "language": "python",
   "name": "python3"
  }
 },
 "nbformat": 4,
 "nbformat_minor": 2
}
